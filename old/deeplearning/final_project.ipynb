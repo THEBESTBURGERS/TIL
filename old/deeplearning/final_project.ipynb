{
 "cells": [
  {
   "cell_type": "code",
   "execution_count": 1,
   "metadata": {},
   "outputs": [],
   "source": [
    "import numpy as np\n",
    "import tensorflow as tf\n",
    "import matplotlib.pyplot as plt\n",
    "%matplotlib inline"
   ]
  },
  {
   "cell_type": "code",
   "execution_count": 2,
   "metadata": {},
   "outputs": [],
   "source": [
    "train_paths = tf.io.matching_files('d:\\\\IT\\\\study\\\\study\\\\deeplearning\\\\final\\\\CIFAR100\\\\train\\\\*.png')\n",
    "train_paths = train_paths.numpy()\n",
    "\n",
    "test_paths = tf.io.matching_files('d:\\\\IT\\\\study\\\\study\\\\deeplearning\\\\final\\\\CIFAR100\\\\test\\\\*.png')\n",
    "test_paths = test_paths.numpy()"
   ]
  },
  {
   "cell_type": "code",
   "execution_count": null,
   "metadata": {},
   "outputs": [],
   "source": [
    "classes = []\n",
    "label_dict = dict()\n",
    "label_dict_inv = dict()\n",
    "for path in train_paths:\n",
    "  path = path.decode()\n",
    "  label = path[path.find('_')+1:path.find('.png')]\n",
    "  \n",
    "  if label not in label_dict:\n",
    "    label_dict[label] = len(label_dict)\n",
    "\n",
    "for key in label_dict:\n",
    "  label_dict_inv[label_dict[key]] = key\n",
    "\n",
    "print(label_dict)\n",
    "print(label_dict_inv)"
   ]
  },
  {
   "cell_type": "code",
   "execution_count": null,
   "metadata": {},
   "outputs": [],
   "source": [
    "# train_x_path = []\n",
    "# train_y = []\n",
    "# for path in paths:\n",
    "#   path = path.decode()\n",
    "#   label = path[path.find('_')+1:path.find('.png')]\n",
    "#   train_x_path.append(path)\n",
    "#   train_y.append(label_dict[label])"
   ]
  },
  {
   "cell_type": "code",
   "execution_count": null,
   "metadata": {},
   "outputs": [],
   "source": [
    "def tf_read_image(path):\n",
    "  gfile = tf.io.read_file(path)\n",
    "  image = tf.io.decode_image(gfile, dtype=tf.float32)\n",
    "  return image\n",
    "\n",
    "\n",
    "def make_batch_x_y(batch_paths):\n",
    "  batch_images = []\n",
    "  batch_labels = []\n",
    "  \n",
    "  for path in batch_paths:\n",
    "    path = path.decode()\n",
    "    image = tf_read_image(path)\n",
    "    label = label_dict[path[path.find('_')+1:path.find('.png')]]\n",
    "    batch_images.append(image)\n",
    "    batch_labels.append(label)\n",
    "  return tf.convert_to_tensor(batch_images), tf.convert_to_tensor(batch_labels)"
   ]
  },
  {
   "cell_type": "code",
   "execution_count": null,
   "metadata": {},
   "outputs": [],
   "source": [
    "train_x_1d, train_y_1d = make_batch_x_y(train_paths)"
   ]
  },
  {
   "cell_type": "code",
   "execution_count": null,
   "metadata": {},
   "outputs": [],
   "source": [
    "def Mymodel(input_shape, num_classes):\n",
    "  my_inputs = tf.keras.layers.Input(shape=input_shape)   \n",
    "  net = tf.keras.layers.Conv2D(32, 3, 1, padding=\"same\", activation='relu')(my_inputs)           \n",
    "  net = tf.keras.layers.Conv2D(32, 3, 1, padding=\"same\", activation='relu')(net)             \n",
    "  net = tf.keras.layers.MaxPool2D(pool_size=(2, 2))(net)                                      \n",
    "  net = tf.keras.layers.Dropout(0.2)(net)                                                    \n",
    "\n",
    "  net = tf.keras.layers.Conv2D(64, 3, 1, padding=\"same\", activation='relu')(net)            \n",
    "  net = tf.keras.layers.Conv2D(64, 3, 1, padding=\"same\", activation='relu')(net)            \n",
    "  net = tf.keras.layers.MaxPool2D(pool_size=(2, 2))(net)                                    \n",
    "  net = tf.keras.layers.Dropout(0.2)(net)  \n",
    "\n",
    "  net = tf.keras.layers.Flatten()(net)                                                      \n",
    "  net = tf.keras.layers.Dense(512, activation='relu')(net)\n",
    "  # net = tf.keras.layers.Dense(512)(net,  activation='relu')\n",
    "  net = tf.keras.layers.Dropout(0.3)(net)\n",
    "  net = tf.keras.layers.Dense(num_classes, activation=\"softmax\")(net)                       \n",
    "  model = tf.keras.Model(inputs=my_inputs, outputs=net, name=\"Final_Project\")\n",
    "  return model"
   ]
  },
  {
   "cell_type": "code",
   "execution_count": null,
   "metadata": {},
   "outputs": [],
   "source": [
    "input_shape = (32, 32, 3)       # 높이, 폭, 채널수\n",
    "num_classes = 100                # 100개로 설정\n",
    "mymodel = Mymodel(input_shape, num_classes)\n",
    "mymodel.compile(optimizer=tf.keras.optimizers.Adam(), loss='sparse_categorical_crossentropy', metrics=['accuracy'])\n",
    "mymodel.summary()\n"
   ]
  },
  {
   "cell_type": "code",
   "execution_count": null,
   "metadata": {},
   "outputs": [],
   "source": [
    "num_epochs = 5          \n",
    "batch_size = 32\n",
    "hist = mymodel.fit(train_x_1d, train_y_1d, batch_size = batch_size, shuffle = True, epochs = num_epochs)"
   ]
  },
  {
   "cell_type": "code",
   "execution_count": null,
   "metadata": {},
   "outputs": [],
   "source": [
    "test_x_1d, test_y_1d = make_batch_x_y(test_paths)\n",
    "\n",
    "results = mymodel.evaluate(test_x_1d, test_y_1d, batch_size=32)\n",
    "print(\"test loss, test acc:\", results)"
   ]
  },
  {
   "cell_type": "code",
   "execution_count": null,
   "metadata": {},
   "outputs": [],
   "source": [
    "test_img = test_x_1d[6510]\n",
    "output = mymodel.predict(test_img[tf.newaxis,...])\n",
    "output = np.argmax(output)\n",
    "\n",
    "print(label_dict_inv[output])\n",
    "plt.imshow(test_img)"
   ]
  },
  {
   "cell_type": "code",
   "execution_count": null,
   "metadata": {},
   "outputs": [],
   "source": []
  },
  {
   "cell_type": "code",
   "execution_count": null,
   "metadata": {},
   "outputs": [],
   "source": []
  }
 ],
 "metadata": {
  "interpreter": {
   "hash": "10bb3e5eb1abad2ba42de35e2f0620ab0c269d5adc677f9a81d88a2c58dbf16c"
  },
  "kernelspec": {
   "display_name": "Python 3.8.8rc1 64-bit",
   "language": "python",
   "name": "python3"
  },
  "language_info": {
   "codemirror_mode": {
    "name": "ipython",
    "version": 3
   },
   "file_extension": ".py",
   "mimetype": "text/x-python",
   "name": "python",
   "nbconvert_exporter": "python",
   "pygments_lexer": "ipython3",
   "version": "3.8.8"
  },
  "orig_nbformat": 4
 },
 "nbformat": 4,
 "nbformat_minor": 2
}
