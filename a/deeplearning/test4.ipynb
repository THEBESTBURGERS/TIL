{
 "cells": [
  {
   "cell_type": "code",
   "execution_count": 58,
   "metadata": {},
   "outputs": [],
   "source": [
    "import numpy as np\n",
    "import tensorflow as tf\n",
    "import matplotlib.pyplot as plt\n",
    "%matplotlib inline"
   ]
  },
  {
   "cell_type": "markdown",
   "metadata": {},
   "source": []
  },
  {
   "cell_type": "code",
   "execution_count": 59,
   "metadata": {},
   "outputs": [],
   "source": [
    "train_paths = tf.io.matching_files('d:\\\\IT\\\\study\\\\study\\\\deeplearning\\\\final\\\\CIFAR100\\\\train\\\\*.png')\n",
    "train_paths = train_paths.numpy()\n",
    "\n",
    "test_paths = tf.io.matching_files('d:\\\\IT\\\\study\\\\study\\\\deeplearning\\\\final\\\\CIFAR100\\\\test\\\\*.png')\n",
    "test_paths = test_paths.numpy()"
   ]
  },
  {
   "cell_type": "code",
   "execution_count": 60,
   "metadata": {},
   "outputs": [
    {
     "name": "stdout",
     "output_type": "stream",
     "text": [
      "{'cattle': 0, 'motorcycle': 1, 'snail': 2, 'dolphin': 3, 'clock': 4, 'willow_tree': 5, 'hamster': 6, 'mushroom': 7, 'poppy': 8, 'tiger': 9, 'man': 10, 'orchid': 11, 'aquarium_fish': 12, 'kangaroo': 13, 'lamp': 14, 'butterfly': 15, 'boy': 16, 'fox': 17, 'squirrel': 18, 'rocket': 19, 'lizard': 20, 'pine_tree': 21, 'seal': 22, 'girl': 23, 'oak_tree': 24, 'road': 25, 'leopard': 26, 'bus': 27, 'otter': 28, 'bridge': 29, 'sea': 30, 'apple': 31, 'rabbit': 32, 'worm': 33, 'streetcar': 34, 'couch': 35, 'shrew': 36, 'tractor': 37, 'raccoon': 38, 'lion': 39, 'camel': 40, 'maple_tree': 41, 'snake': 42, 'mountain': 43, 'beaver': 44, 'caterpillar': 45, 'bowl': 46, 'whale': 47, 'table': 48, 'palm_tree': 49, 'plate': 50, 'beetle': 51, 'castle': 52, 'chair': 53, 'shark': 54, 'mouse': 55, 'train': 56, 'bed': 57, 'crab': 58, 'television': 59, 'porcupine': 60, 'wardrobe': 61, 'sweet_pepper': 62, 'bicycle': 63, 'bee': 64, 'bear': 65, 'pear': 66, 'spider': 67, 'flatfish': 68, 'elephant': 69, 'lawn_mower': 70, 'possum': 71, 'rose': 72, 'bottle': 73, 'keyboard': 74, 'wolf': 75, 'baby': 76, 'skyscraper': 77, 'dinosaur': 78, 'cloud': 79, 'house': 80, 'ray': 81, 'orange': 82, 'lobster': 83, 'forest': 84, 'plain': 85, 'pickup_truck': 86, 'chimpanzee': 87, 'telephone': 88, 'tank': 89, 'skunk': 90, 'trout': 91, 'woman': 92, 'can': 93, 'cup': 94, 'sunflower': 95, 'tulip': 96, 'turtle': 97, 'crocodile': 98, 'cockroach': 99}\n",
      "{0: 'cattle', 1: 'motorcycle', 2: 'snail', 3: 'dolphin', 4: 'clock', 5: 'willow_tree', 6: 'hamster', 7: 'mushroom', 8: 'poppy', 9: 'tiger', 10: 'man', 11: 'orchid', 12: 'aquarium_fish', 13: 'kangaroo', 14: 'lamp', 15: 'butterfly', 16: 'boy', 17: 'fox', 18: 'squirrel', 19: 'rocket', 20: 'lizard', 21: 'pine_tree', 22: 'seal', 23: 'girl', 24: 'oak_tree', 25: 'road', 26: 'leopard', 27: 'bus', 28: 'otter', 29: 'bridge', 30: 'sea', 31: 'apple', 32: 'rabbit', 33: 'worm', 34: 'streetcar', 35: 'couch', 36: 'shrew', 37: 'tractor', 38: 'raccoon', 39: 'lion', 40: 'camel', 41: 'maple_tree', 42: 'snake', 43: 'mountain', 44: 'beaver', 45: 'caterpillar', 46: 'bowl', 47: 'whale', 48: 'table', 49: 'palm_tree', 50: 'plate', 51: 'beetle', 52: 'castle', 53: 'chair', 54: 'shark', 55: 'mouse', 56: 'train', 57: 'bed', 58: 'crab', 59: 'television', 60: 'porcupine', 61: 'wardrobe', 62: 'sweet_pepper', 63: 'bicycle', 64: 'bee', 65: 'bear', 66: 'pear', 67: 'spider', 68: 'flatfish', 69: 'elephant', 70: 'lawn_mower', 71: 'possum', 72: 'rose', 73: 'bottle', 74: 'keyboard', 75: 'wolf', 76: 'baby', 77: 'skyscraper', 78: 'dinosaur', 79: 'cloud', 80: 'house', 81: 'ray', 82: 'orange', 83: 'lobster', 84: 'forest', 85: 'plain', 86: 'pickup_truck', 87: 'chimpanzee', 88: 'telephone', 89: 'tank', 90: 'skunk', 91: 'trout', 92: 'woman', 93: 'can', 94: 'cup', 95: 'sunflower', 96: 'tulip', 97: 'turtle', 98: 'crocodile', 99: 'cockroach'}\n"
     ]
    }
   ],
   "source": [
    "classes = []\n",
    "label_dict = dict()\n",
    "label_dict_inv = dict()\n",
    "for path in train_paths:\n",
    "  path = path.decode()\n",
    "  label = path[path.find('_')+1:path.find('.png')]\n",
    "  \n",
    "  if label not in label_dict:\n",
    "    label_dict[label] = len(label_dict)\n",
    "\n",
    "for key in label_dict:\n",
    "  label_dict_inv[label_dict[key]] = key\n",
    "\n",
    "print(label_dict)\n",
    "print(label_dict_inv)"
   ]
  },
  {
   "cell_type": "code",
   "execution_count": 61,
   "metadata": {},
   "outputs": [],
   "source": [
    "# train_x_path = []\n",
    "# train_y = []\n",
    "# for path in paths:\n",
    "#   path = path.decode()\n",
    "#   label = path[path.find('_')+1:path.find('.png')]\n",
    "#   train_x_path.append(path)\n",
    "#   train_y.append(label_dict[label])"
   ]
  },
  {
   "cell_type": "code",
   "execution_count": 62,
   "metadata": {},
   "outputs": [],
   "source": [
    "def tf_read_image(path):\n",
    "  gfile = tf.io.read_file(path)\n",
    "  image = tf.io.decode_image(gfile, dtype=tf.float32)\n",
    "  return image\n",
    "\n",
    "\n",
    "def make_batch_x_y(batch_paths):\n",
    "  batch_images = []\n",
    "  batch_labels = []\n",
    "  \n",
    "  for path in batch_paths:\n",
    "    path = path.decode()\n",
    "    image = tf_read_image(path)\n",
    "    label = label_dict[path[path.find('_')+1:path.find('.png')]]\n",
    "    batch_images.append(image)\n",
    "    batch_labels.append(label)\n",
    "  return tf.convert_to_tensor(batch_images), tf.convert_to_tensor(batch_labels)"
   ]
  },
  {
   "cell_type": "code",
   "execution_count": 63,
   "metadata": {},
   "outputs": [],
   "source": [
    "train_x_1d, train_y_1d = make_batch_x_y(train_paths)"
   ]
  },
  {
   "cell_type": "code",
   "execution_count": null,
   "metadata": {},
   "outputs": [],
   "source": [
    "def Mymodel(input_shape, num_classes):\n",
    "  my_inputs = tf.keras.layers.Input(shape=input_shape)   \n",
    "  net = tf.keras.layers.Conv2D(32, 3, 1, padding=\"same\", activation='relu')(my_inputs)           \n",
    "  net = tf.keras.layers.Conv2D(32, 3, 1, padding=\"same\", activation='relu')(net)             \n",
    "  net = tf.keras.layers.MaxPool2D(pool_size=(2, 2))(net)                                      \n",
    "  net = tf.keras.layers.Dropout(0.2)(net)                                                    \n",
    "\n",
    "  net = tf.keras.layers.Conv2D(64, 3, 1, padding=\"same\", activation='relu')(net)            \n",
    "  net = tf.keras.layers.Conv2D(64, 3, 1, padding=\"same\", activation='relu')(net)            \n",
    "  net = tf.keras.layers.MaxPool2D(pool_size=(2, 2))(net)                                    \n",
    "  net = tf.keras.layers.Dropout(0.2)(net)  \n",
    "\n",
    "  net = tf.keras.layers.Flatten()(net)                                                      \n",
    "  net = tf.keras.layers.Dense(512, activation='relu')(net)\n",
    "  # net = tf.keras.layers.Dense(512)(net,  activation='relu')\n",
    "  net = tf.keras.layers.Dropout(0.3)(net)\n",
    "  net = tf.keras.layers.Dense(num_classes, activation=\"softmax\")(net)                       \n",
    "  model = tf.keras.Model(inputs=my_inputs, outputs=net, name=\"Final_Project\")\n",
    "  return model"
   ]
  },
  {
   "cell_type": "code",
   "execution_count": null,
   "metadata": {},
   "outputs": [],
   "source": [
    "input_shape = (32, 32, 3)       # 높이, 폭, 채널수\n",
    "num_classes = 100                # 100개로 설정\n",
    "mymodel = Mymodel(input_shape, num_classes)\n",
    "# mymodel.summary()\n",
    "mymodel.compile(optimizer=tf.keras.optimizers.Adam(), loss='sparse_categorical_crossentropy', metrics=['accuracy'])\n"
   ]
  },
  {
   "cell_type": "code",
   "execution_count": null,
   "metadata": {},
   "outputs": [],
   "source": [
    "mymodel.summary()"
   ]
  },
  {
   "cell_type": "code",
   "execution_count": null,
   "metadata": {},
   "outputs": [],
   "source": [
    "num_epochs = 5          \n",
    "batch_size = 32\n",
    "hist = mymodel.fit(train_x_1d, train_y_1d, batch_size = batch_size, shuffle = True, epochs = num_epochs)"
   ]
  },
  {
   "cell_type": "code",
   "execution_count": null,
   "metadata": {},
   "outputs": [],
   "source": [
    "test_x_1d, test_y_1d = make_batch_x_y(test_paths)\n",
    "\n",
    "results = mymodel.evaluate(test_x_1d, test_y_1d, batch_size=32)\n",
    "print(\"test loss, test acc:\", results)"
   ]
  },
  {
   "cell_type": "code",
   "execution_count": null,
   "metadata": {},
   "outputs": [],
   "source": [
    "test_img = test_x_1d[6510]\n",
    "output = mymodel.predict(test_img[tf.newaxis,...])\n",
    "output = np.argmax(output)\n",
    "\n",
    "print(label_dict_inv[output])\n",
    "plt.imshow(test_img)"
   ]
  },
  {
   "cell_type": "code",
   "execution_count": null,
   "metadata": {},
   "outputs": [],
   "source": []
  }
 ],
 "metadata": {
  "interpreter": {
   "hash": "10bb3e5eb1abad2ba42de35e2f0620ab0c269d5adc677f9a81d88a2c58dbf16c"
  },
  "kernelspec": {
   "display_name": "Python 3.8.8rc1 64-bit",
   "language": "python",
   "name": "python3"
  },
  "language_info": {
   "codemirror_mode": {
    "name": "ipython",
    "version": 3
   },
   "file_extension": ".py",
   "mimetype": "text/x-python",
   "name": "python",
   "nbconvert_exporter": "python",
   "pygments_lexer": "ipython3",
   "version": "3.8.8"
  },
  "orig_nbformat": 4
 },
 "nbformat": 4,
 "nbformat_minor": 2
}
