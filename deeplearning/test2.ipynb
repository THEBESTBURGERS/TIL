{
 "cells": [
  {
   "cell_type": "code",
   "execution_count": 45,
   "metadata": {},
   "outputs": [],
   "source": [
    "import numpy as np\n",
    "import tensorflow as tf\n",
    "import matplotlib.pyplot as plt\n",
    "%matplotlib inline\n",
    "from tensorflow.keras import datasets\n",
    "# from tensorflow.keras import layers"
   ]
  },
  {
   "cell_type": "code",
   "execution_count": 2,
   "metadata": {},
   "outputs": [],
   "source": [
    "input_shape = (28, 28, 1)       # 높이, 폭, 채널수\n",
    "num_classes = 10                # 10개로 설정"
   ]
  },
  {
   "cell_type": "code",
   "execution_count": null,
   "metadata": {},
   "outputs": [],
   "source": [
    "# inputs = tf.keras.layers.Input(shape=input_shape)   # input layer 정의. shape 값에 input_shape가 들어갈것이다.\n",
    "\n",
    "# cv_layer1 = tf.keras.layers.Conv2D(32, 3, 1, padding=\"same\", activation='relu')     # 필터, 커널사이즈, 스프라이드, 패딩. 복잡하니까 activarion 을 합침\n",
    "# cv_layer2 = tf.keras.layers.Conv2D(32, 3, 1, padding=\"same\", activation='relu')     # 2 번째 layer\n",
    "\n",
    "# output_cv_layer1 = cv_layer1(inputs)                                                # 컨볼루션 레이어 두 개를 통과함.\n",
    "# output_cv_layer2 = cv_layer2(output_cv_layer1)\n",
    "\n",
    "# output_pool_layer = tf.keras.layers.MaxPool2D(2, 2)(output_cv_layer2)               # MacPool \n",
    "# output_drop_layer = tf.keras.layers.Dropout(0, 2)(output_pool_layer)                # Dropout"
   ]
  },
  {
   "cell_type": "code",
   "execution_count": null,
   "metadata": {},
   "outputs": [],
   "source": [
    "# inputs = tf.keras.layers.Input(shape=input_shape)   # input layer 정의. shape 값에 input_shape가 들어갈것이다.\n",
    "\n",
    "# output_cv_layer1 = tf.keras.layers.Conv2D(32, 3, 1, padding=\"same\", activation='relu')(inputs)                                                # 컨볼루션 레이어 두 개를 통과함.\n",
    "# output_cv_layer2 = tf.keras.layers.Conv2D(32, 3, 1, padding=\"same\", activation='relu')(output_cv_layer1)\n",
    "# output_pool_layer = tf.keras.layers.MaxPool2D(2, 2)(output_cv_layer2)               # MacPool \n",
    "# output_drop_layer = tf.keras.layers.Dropout(0, 2)(output_pool_layer)                # Dropout"
   ]
  },
  {
   "cell_type": "code",
   "execution_count": null,
   "metadata": {},
   "outputs": [],
   "source": [
    "my_inputs = tf.keras.layers.Input(shape=input_shape)   # input layer 정의. shape 값에 input_shape가 들어갈것이다.\n",
    "# 컨볼루션 레이어 두 개를 통과함.\n",
    "net = tf.keras.layers.Conv2D(32, 3, 1, padding=\"same\", activation='relu')(my_inputs)            # shape = (batch_size, 28, 28, 32) \n",
    "net = tf.keras.layers.Conv2D(32, 3, 1, padding=\"same\", activation='relu')(net)               # shape = (batch_size, 28, 28, 32)\n",
    "net = tf.keras.layers.MaxPool2D(pool_size=(2, 2))(net)                                       # shape = (batch_size, 14, 14, 32)\n",
    "net = tf.keras.layers.Dropout(0, 2)(net)                                                     # shape = (batch_size, 14, 14, 32)        \n"
   ]
  },
  {
   "cell_type": "code",
   "execution_count": null,
   "metadata": {},
   "outputs": [],
   "source": [
    "net = tf.keras.layers.Conv2D(64, 3, 1, padding=\"same\", activation='relu')(net)               # shape = (batch_size, 14, 14, 64)                                        # 컨볼루션 레이어 두 개를 통과함.\n",
    "net = tf.keras.layers.Conv2D(64, 3, 1, padding=\"same\", activation='relu')(net)               # shape = (batch_size, 14, 14, 64)\n",
    "net = tf.keras.layers.MaxPool2D(pool_size=(2, 2))(net)                                       # shape = (batch_size, 7, 7, 64)\n",
    "net = tf.keras.layers.Dropout(0, 2)(net)  "
   ]
  },
  {
   "cell_type": "code",
   "execution_count": null,
   "metadata": {},
   "outputs": [],
   "source": [
    "# 1 차원으로 펼치기\n",
    "net = tf.keras.layers.Flatten()(net)                                                         # shape = (batch_size, 7x7x64) = (batch_size, 3136)\n",
    "net = tf.keras.layers.Dense(512, activation='relu')(net)\n",
    "# net = tf.keras.layers.Dense(512)(net,  activation='relu')\n",
    "net = tf.keras.layers.Dropout(0,3)(net)\n",
    "net = tf.keras.layers.Dense(num_classes, activation=\"softmax\")(net)                          # softmax는 확률로 바꿔준다"
   ]
  },
  {
   "cell_type": "code",
   "execution_count": null,
   "metadata": {},
   "outputs": [],
   "source": [
    "net"
   ]
  },
  {
   "cell_type": "code",
   "execution_count": 3,
   "metadata": {},
   "outputs": [],
   "source": [
    "def Mymodel(input_shape, num_classes):\n",
    "  my_inputs = tf.keras.layers.Input(shape=input_shape)   # input layer 정의. shape 값에 input_shape가 들어갈것이다.\n",
    "  net = tf.keras.layers.Conv2D(32, 3, 1, padding=\"same\", activation='relu')(my_inputs)            # shape = (batch_size, 28, 28, 32) \n",
    "  net = tf.keras.layers.Conv2D(32, 3, 1, padding=\"same\", activation='relu')(net)               # shape = (batch_size, 28, 28, 32)\n",
    "  net = tf.keras.layers.MaxPool2D(pool_size=(2, 2))(net)                                       # shape = (batch_size, 14, 14, 32)\n",
    "  net = tf.keras.layers.Dropout(0, 2)(net)                                                     # shape = (batch_size, 14, 14, 32)        \n",
    "\n",
    "  net = tf.keras.layers.Conv2D(64, 3, 1, padding=\"same\", activation='relu')(net)               # shape = (batch_size, 14, 14, 64)  # 컨볼루션 레이어 두 개를 통과함.\n",
    "  net = tf.keras.layers.Conv2D(64, 3, 1, padding=\"same\", activation='relu')(net)               # shape = (batch_size, 14, 14, 64)\n",
    "  net = tf.keras.layers.MaxPool2D(pool_size=(2, 2))(net)                                       # shape = (batch_size, 7, 7, 64)\n",
    "  net = tf.keras.layers.Dropout(0, 2)(net)  \n",
    "\n",
    "  net = tf.keras.layers.Flatten()(net)                                                         # shape = (batch_size, 7x7x64) = (batch_size, 3136)\n",
    "  net = tf.keras.layers.Dense(512, activation='relu')(net)\n",
    "  # net = tf.keras.layers.Dense(512)(net,  activation='relu')\n",
    "  net = tf.keras.layers.Dropout(0,3)(net)\n",
    "  net = tf.keras.layers.Dense(num_classes, activation=\"softmax\")(net)                          # softmax는 확률로 바꿔준다\n",
    "  model = tf.keras.Model(inputs=my_inputs, outputs=net, name=\"TEST\")\n",
    "  return model\n",
    "  "
   ]
  },
  {
   "cell_type": "code",
   "execution_count": 4,
   "metadata": {},
   "outputs": [],
   "source": [
    "mymodel = Mymodel(input_shape, num_classes)"
   ]
  },
  {
   "cell_type": "code",
   "execution_count": 5,
   "metadata": {},
   "outputs": [
    {
     "name": "stdout",
     "output_type": "stream",
     "text": [
      "Model: \"TEST\"\n",
      "_________________________________________________________________\n",
      " Layer (type)                Output Shape              Param #   \n",
      "=================================================================\n",
      " input_1 (InputLayer)        [(None, 28, 28, 1)]       0         \n",
      "                                                                 \n",
      " conv2d (Conv2D)             (None, 28, 28, 32)        320       \n",
      "                                                                 \n",
      " conv2d_1 (Conv2D)           (None, 28, 28, 32)        9248      \n",
      "                                                                 \n",
      " max_pooling2d (MaxPooling2D  (None, 14, 14, 32)       0         \n",
      " )                                                               \n",
      "                                                                 \n",
      " dropout (Dropout)           (None, 14, 14, 32)        0         \n",
      "                                                                 \n",
      " conv2d_2 (Conv2D)           (None, 14, 14, 64)        18496     \n",
      "                                                                 \n",
      " conv2d_3 (Conv2D)           (None, 14, 14, 64)        36928     \n",
      "                                                                 \n",
      " max_pooling2d_1 (MaxPooling  (None, 7, 7, 64)         0         \n",
      " 2D)                                                             \n",
      "                                                                 \n",
      " dropout_1 (Dropout)         (None, 7, 7, 64)          0         \n",
      "                                                                 \n",
      " flatten (Flatten)           (None, 3136)              0         \n",
      "                                                                 \n",
      " dense (Dense)               (None, 512)               1606144   \n",
      "                                                                 \n",
      " dropout_2 (Dropout)         (None, 512)               0         \n",
      "                                                                 \n",
      " dense_1 (Dense)             (None, 10)                5130      \n",
      "                                                                 \n",
      "=================================================================\n",
      "Total params: 1,676,266\n",
      "Trainable params: 1,676,266\n",
      "Non-trainable params: 0\n",
      "_________________________________________________________________\n"
     ]
    }
   ],
   "source": [
    "mymodel.summary()"
   ]
  },
  {
   "cell_type": "markdown",
   "metadata": {},
   "source": [
    "## Model"
   ]
  },
  {
   "cell_type": "code",
   "execution_count": null,
   "metadata": {},
   "outputs": [],
   "source": []
  },
  {
   "cell_type": "code",
   "execution_count": 37,
   "metadata": {},
   "outputs": [],
   "source": [
    "(train_x, train_y), (test_x, test_y) = datasets.mnist.load_data()"
   ]
  },
  {
   "cell_type": "code",
   "execution_count": 38,
   "metadata": {},
   "outputs": [
    {
     "data": {
      "text/plain": [
       "((60000, 28, 28), (60000,))"
      ]
     },
     "execution_count": 38,
     "metadata": {},
     "output_type": "execute_result"
    }
   ],
   "source": [
    "train_x.shape, train_y.shape"
   ]
  },
  {
   "cell_type": "markdown",
   "metadata": {},
   "source": [
    "## 유의사항\n",
    "- 학습응 위해서는 입력을  4 차원으로 만들어야 한다.\n",
    "- 0 과 1 사이로 픽셀 값을 정규화하여 입력하는 것이 일반적이다.\n",
    "- 입력을 float 형으로 만들어야한다.\n"
   ]
  },
  {
   "cell_type": "code",
   "execution_count": 39,
   "metadata": {},
   "outputs": [],
   "source": [
    "train_x = train_x[..., tf.newaxis]"
   ]
  },
  {
   "cell_type": "code",
   "execution_count": 40,
   "metadata": {},
   "outputs": [
    {
     "data": {
      "text/plain": [
       "(60000, 28, 28, 1)"
      ]
     },
     "execution_count": 40,
     "metadata": {},
     "output_type": "execute_result"
    }
   ],
   "source": [
    "train_x.shape"
   ]
  },
  {
   "cell_type": "code",
   "execution_count": 41,
   "metadata": {},
   "outputs": [],
   "source": [
    "train_x = train_x/255"
   ]
  },
  {
   "cell_type": "code",
   "execution_count": 42,
   "metadata": {},
   "outputs": [
    {
     "data": {
      "text/plain": [
       "(dtype('float64'), 1.0)"
      ]
     },
     "execution_count": 42,
     "metadata": {},
     "output_type": "execute_result"
    }
   ],
   "source": [
    "train_x.dtype, np.max(train_x)"
   ]
  },
  {
   "cell_type": "markdown",
   "metadata": {},
   "source": [
    "## Model Compile, Model fit, 모델 컴파일, 모델 학습"
   ]
  },
  {
   "cell_type": "code",
   "execution_count": 43,
   "metadata": {},
   "outputs": [],
   "source": [
    "mymodel.compile(optimizer=tf.keras.optimizers.Adam(), loss='sparse_categorical_crossentropy', metrics=['accuracy'])\n"
   ]
  },
  {
   "cell_type": "code",
   "execution_count": 44,
   "metadata": {},
   "outputs": [
    {
     "ename": "TypeError",
     "evalue": "in user code:\n\n    File \"C:\\Users\\wbk16\\AppData\\Local\\Programs\\Python\\Python38\\lib\\site-packages\\keras\\engine\\training.py\", line 878, in train_function  *\n        return step_function(self, iterator)\n    File \"C:\\Users\\wbk16\\AppData\\Local\\Programs\\Python\\Python38\\lib\\site-packages\\keras\\engine\\training.py\", line 867, in step_function  **\n        outputs = model.distribute_strategy.run(run_step, args=(data,))\n    File \"C:\\Users\\wbk16\\AppData\\Local\\Programs\\Python\\Python38\\lib\\site-packages\\keras\\engine\\training.py\", line 860, in run_step  **\n        outputs = model.train_step(data)\n    File \"C:\\Users\\wbk16\\AppData\\Local\\Programs\\Python\\Python38\\lib\\site-packages\\keras\\engine\\training.py\", line 808, in train_step\n        y_pred = self(x, training=True)\n    File \"C:\\Users\\wbk16\\AppData\\Local\\Programs\\Python\\Python38\\lib\\site-packages\\keras\\utils\\traceback_utils.py\", line 67, in error_handler\n        raise e.with_traceback(filtered_tb) from None\n    File \"C:\\Users\\wbk16\\AppData\\Local\\Programs\\Python\\Python38\\lib\\site-packages\\keras\\layers\\core\\dropout.py\", line 96, in _get_noise_shape\n        for i, value in enumerate(self.noise_shape):\n\n    TypeError: Exception encountered when calling layer \"dropout\" (type Dropout).\n    \n    'int' object is not iterable\n    \n    Call arguments received:\n      • inputs=tf.Tensor(shape=(32, 14, 14, 32), dtype=float32)\n      • training=True\n",
     "output_type": "error",
     "traceback": [
      "\u001b[1;31m---------------------------------------------------------------------------\u001b[0m",
      "\u001b[1;31mTypeError\u001b[0m                                 Traceback (most recent call last)",
      "\u001b[1;32m~\\AppData\\Local\\Temp/ipykernel_18500/1944553253.py\u001b[0m in \u001b[0;36m<module>\u001b[1;34m\u001b[0m\n\u001b[0;32m      1\u001b[0m \u001b[0mnum_epochs\u001b[0m\u001b[1;33m=\u001b[0m\u001b[1;36m1\u001b[0m         \u001b[1;31m# 6 만개의 데이터를 한번만 돌리겠따\u001b[0m\u001b[1;33m\u001b[0m\u001b[1;33m\u001b[0m\u001b[0m\n\u001b[0;32m      2\u001b[0m \u001b[0mbatch_size\u001b[0m \u001b[1;33m=\u001b[0m \u001b[1;36m32\u001b[0m      \u001b[1;31m# 똑같은 모델 6개를 만드렁서 사용하겠다\u001b[0m\u001b[1;33m\u001b[0m\u001b[1;33m\u001b[0m\u001b[0m\n\u001b[1;32m----> 3\u001b[1;33m \u001b[0mhist\u001b[0m \u001b[1;33m=\u001b[0m \u001b[0mmymodel\u001b[0m\u001b[1;33m.\u001b[0m\u001b[0mfit\u001b[0m\u001b[1;33m(\u001b[0m\u001b[0mtrain_x\u001b[0m\u001b[1;33m,\u001b[0m \u001b[0mtrain_y\u001b[0m\u001b[1;33m,\u001b[0m \u001b[0mbatch_size\u001b[0m \u001b[1;33m=\u001b[0m \u001b[0mbatch_size\u001b[0m\u001b[1;33m,\u001b[0m \u001b[0mshuffle\u001b[0m \u001b[1;33m=\u001b[0m \u001b[1;32mTrue\u001b[0m\u001b[1;33m,\u001b[0m \u001b[0mepochs\u001b[0m \u001b[1;33m=\u001b[0m \u001b[0mnum_epochs\u001b[0m\u001b[1;33m)\u001b[0m\u001b[1;33m\u001b[0m\u001b[1;33m\u001b[0m\u001b[0m\n\u001b[0m",
      "\u001b[1;32m~\\AppData\\Local\\Programs\\Python\\Python38\\lib\\site-packages\\keras\\utils\\traceback_utils.py\u001b[0m in \u001b[0;36merror_handler\u001b[1;34m(*args, **kwargs)\u001b[0m\n\u001b[0;32m     65\u001b[0m     \u001b[1;32mexcept\u001b[0m \u001b[0mException\u001b[0m \u001b[1;32mas\u001b[0m \u001b[0me\u001b[0m\u001b[1;33m:\u001b[0m  \u001b[1;31m# pylint: disable=broad-except\u001b[0m\u001b[1;33m\u001b[0m\u001b[1;33m\u001b[0m\u001b[0m\n\u001b[0;32m     66\u001b[0m       \u001b[0mfiltered_tb\u001b[0m \u001b[1;33m=\u001b[0m \u001b[0m_process_traceback_frames\u001b[0m\u001b[1;33m(\u001b[0m\u001b[0me\u001b[0m\u001b[1;33m.\u001b[0m\u001b[0m__traceback__\u001b[0m\u001b[1;33m)\u001b[0m\u001b[1;33m\u001b[0m\u001b[1;33m\u001b[0m\u001b[0m\n\u001b[1;32m---> 67\u001b[1;33m       \u001b[1;32mraise\u001b[0m \u001b[0me\u001b[0m\u001b[1;33m.\u001b[0m\u001b[0mwith_traceback\u001b[0m\u001b[1;33m(\u001b[0m\u001b[0mfiltered_tb\u001b[0m\u001b[1;33m)\u001b[0m \u001b[1;32mfrom\u001b[0m \u001b[1;32mNone\u001b[0m\u001b[1;33m\u001b[0m\u001b[1;33m\u001b[0m\u001b[0m\n\u001b[0m\u001b[0;32m     68\u001b[0m     \u001b[1;32mfinally\u001b[0m\u001b[1;33m:\u001b[0m\u001b[1;33m\u001b[0m\u001b[1;33m\u001b[0m\u001b[0m\n\u001b[0;32m     69\u001b[0m       \u001b[1;32mdel\u001b[0m \u001b[0mfiltered_tb\u001b[0m\u001b[1;33m\u001b[0m\u001b[1;33m\u001b[0m\u001b[0m\n",
      "\u001b[1;32m~\\AppData\\Local\\Programs\\Python\\Python38\\lib\\site-packages\\tensorflow\\python\\framework\\func_graph.py\u001b[0m in \u001b[0;36mautograph_handler\u001b[1;34m(*args, **kwargs)\u001b[0m\n\u001b[0;32m   1127\u001b[0m           \u001b[1;32mexcept\u001b[0m \u001b[0mException\u001b[0m \u001b[1;32mas\u001b[0m \u001b[0me\u001b[0m\u001b[1;33m:\u001b[0m  \u001b[1;31m# pylint:disable=broad-except\u001b[0m\u001b[1;33m\u001b[0m\u001b[1;33m\u001b[0m\u001b[0m\n\u001b[0;32m   1128\u001b[0m             \u001b[1;32mif\u001b[0m \u001b[0mhasattr\u001b[0m\u001b[1;33m(\u001b[0m\u001b[0me\u001b[0m\u001b[1;33m,\u001b[0m \u001b[1;34m\"ag_error_metadata\"\u001b[0m\u001b[1;33m)\u001b[0m\u001b[1;33m:\u001b[0m\u001b[1;33m\u001b[0m\u001b[1;33m\u001b[0m\u001b[0m\n\u001b[1;32m-> 1129\u001b[1;33m               \u001b[1;32mraise\u001b[0m \u001b[0me\u001b[0m\u001b[1;33m.\u001b[0m\u001b[0mag_error_metadata\u001b[0m\u001b[1;33m.\u001b[0m\u001b[0mto_exception\u001b[0m\u001b[1;33m(\u001b[0m\u001b[0me\u001b[0m\u001b[1;33m)\u001b[0m\u001b[1;33m\u001b[0m\u001b[1;33m\u001b[0m\u001b[0m\n\u001b[0m\u001b[0;32m   1130\u001b[0m             \u001b[1;32melse\u001b[0m\u001b[1;33m:\u001b[0m\u001b[1;33m\u001b[0m\u001b[1;33m\u001b[0m\u001b[0m\n\u001b[0;32m   1131\u001b[0m               \u001b[1;32mraise\u001b[0m\u001b[1;33m\u001b[0m\u001b[1;33m\u001b[0m\u001b[0m\n",
      "\u001b[1;31mTypeError\u001b[0m: in user code:\n\n    File \"C:\\Users\\wbk16\\AppData\\Local\\Programs\\Python\\Python38\\lib\\site-packages\\keras\\engine\\training.py\", line 878, in train_function  *\n        return step_function(self, iterator)\n    File \"C:\\Users\\wbk16\\AppData\\Local\\Programs\\Python\\Python38\\lib\\site-packages\\keras\\engine\\training.py\", line 867, in step_function  **\n        outputs = model.distribute_strategy.run(run_step, args=(data,))\n    File \"C:\\Users\\wbk16\\AppData\\Local\\Programs\\Python\\Python38\\lib\\site-packages\\keras\\engine\\training.py\", line 860, in run_step  **\n        outputs = model.train_step(data)\n    File \"C:\\Users\\wbk16\\AppData\\Local\\Programs\\Python\\Python38\\lib\\site-packages\\keras\\engine\\training.py\", line 808, in train_step\n        y_pred = self(x, training=True)\n    File \"C:\\Users\\wbk16\\AppData\\Local\\Programs\\Python\\Python38\\lib\\site-packages\\keras\\utils\\traceback_utils.py\", line 67, in error_handler\n        raise e.with_traceback(filtered_tb) from None\n    File \"C:\\Users\\wbk16\\AppData\\Local\\Programs\\Python\\Python38\\lib\\site-packages\\keras\\layers\\core\\dropout.py\", line 96, in _get_noise_shape\n        for i, value in enumerate(self.noise_shape):\n\n    TypeError: Exception encountered when calling layer \"dropout\" (type Dropout).\n    \n    'int' object is not iterable\n    \n    Call arguments received:\n      • inputs=tf.Tensor(shape=(32, 14, 14, 32), dtype=float32)\n      • training=True\n"
     ]
    }
   ],
   "source": [
    "num_epochs=1         # 6 만개의 데이터를 한번만 돌리겠따\n",
    "batch_size = 32      # 똑같은 모델 6개를 만드렁서 사용하겠다\n",
    "hist = mymodel.fit(train_x, train_y, batch_size = batch_size, shuffle = True, epochs = num_epochs)"
   ]
  },
  {
   "cell_type": "code",
   "execution_count": null,
   "metadata": {},
   "outputs": [],
   "source": []
  }
 ],
 "metadata": {
  "interpreter": {
   "hash": "10bb3e5eb1abad2ba42de35e2f0620ab0c269d5adc677f9a81d88a2c58dbf16c"
  },
  "kernelspec": {
   "display_name": "Python 3.8.8rc1 64-bit",
   "language": "python",
   "name": "python3"
  },
  "language_info": {
   "codemirror_mode": {
    "name": "ipython",
    "version": 3
   },
   "file_extension": ".py",
   "mimetype": "text/x-python",
   "name": "python",
   "nbconvert_exporter": "python",
   "pygments_lexer": "ipython3",
   "version": "3.8.8rc1"
  },
  "orig_nbformat": 4
 },
 "nbformat": 4,
 "nbformat_minor": 2
}
