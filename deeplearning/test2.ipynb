{
 "cells": [
  {
   "cell_type": "code",
   "execution_count": 2,
   "metadata": {},
   "outputs": [],
   "source": [
    "import numpy as np\n",
    "import tensorflow as tf\n",
    "import matplotlib.pyplot as plt\n",
    "%matplotlib inline\n",
    "from tensorflow.keras import datasets\n",
    "from tensorflow.keras import layers"
   ]
  },
  {
   "cell_type": "code",
   "execution_count": 3,
   "metadata": {},
   "outputs": [],
   "source": [
    "input_shape = (28, 28, 1)       # 높이, 폭, 채널수\n",
    "num_classes = 10                # 10개로 설정"
   ]
  },
  {
   "cell_type": "code",
   "execution_count": 5,
   "metadata": {},
   "outputs": [],
   "source": [
    "inputs = tf.keras.layers.Input(shape=input_shape)   # input layer 정의. shape 값에 input_shape가 들어갈것이다.\n",
    "\n",
    "cv_layer1 = tf.keras.layers.Conv2D(32, 3, 1, padding=\"same\", activation='relu')     # 필터, 커널사이즈, 스프라이드, 패딩. 복잡하니까 activarion 을 합침\n",
    "cv_layer2 = tf.keras.layers.Conv2D(32, 3, 1, padding=\"same\", activation='relu')     # 2 번째 layer\n",
    "\n",
    "output_cv_layer1 = cv_layer1(inputs)                                                # 컨볼루션 레이어 두 개를 통과함.\n",
    "output_cv_layer2 = cv_layer2(output_cv_layer1)\n",
    "\n",
    "output_pool_layer = tf.keras.layers.MaxPool2D(2, 2)(output_cv_layer2)               # MacPool \n",
    "output_drop_layer = tf.keras.layers.Dropout(0, 2)(output_pool_layer)                # Dropout"
   ]
  },
  {
   "cell_type": "code",
   "execution_count": null,
   "metadata": {},
   "outputs": [],
   "source": [
    "inputs = tf.keras.layers.Input(shape=input_shape)   # input layer 정의. shape 값에 input_shape가 들어갈것이다.\n",
    "\n",
    "output_cv_layer1 = tf.keras.layers.Conv2D(32, 3, 1, padding=\"same\", activation='relu')(inputs)                                                # 컨볼루션 레이어 두 개를 통과함.\n",
    "output_cv_layer2 = tf.keras.layers.Conv2D(32, 3, 1, padding=\"same\", activation='relu')(output_cv_layer1)\n",
    "output_pool_layer = tf.keras.layers.MaxPool2D(2, 2)(output_cv_layer2)               # MacPool \n",
    "output_drop_layer = tf.keras.layers.Dropout(0, 2)(output_pool_layer)                # Dropout"
   ]
  },
  {
   "cell_type": "code",
   "execution_count": null,
   "metadata": {},
   "outputs": [],
   "source": [
    "inputs = tf.keras.layers.Input(shape=input_shape)   # input layer 정의. shape 값에 input_shape가 들어갈것이다.\n",
    "\n",
    "net = tf.keras.layers.Conv2D(32, 3, 1, padding=\"same\", activation='relu')(inputs)            # shape = (batch_size, 28, 28, 32)                                        # 컨볼루션 레이어 두 개를 통과함.\n",
    "net = tf.keras.layers.Conv2D(32, 3, 1, padding=\"same\", activation='relu')(net)               # shape = (batch_size, 28, 28, 32)\n",
    "net = tf.keras.layers.MaxPool2D(2, 2)(net)                                                   # shape = (batch_size, 14, 14, 32)\n",
    "net = tf.keras.layers.Dropout(0, 2)(net)                                                     # shape = (batch_size, 14, 14, 32)           "
   ]
  },
  {
   "cell_type": "code",
   "execution_count": null,
   "metadata": {},
   "outputs": [],
   "source": [
    "net = tf.keras.layers.Conv2D(64, 3, 1, padding=\"same\", activation='relu')(inputs)            # shape = (batch_size, 14, 14, 64)                                        # 컨볼루션 레이어 두 개를 통과함.\n",
    "net = tf.keras.layers.Conv2D(64, 3, 1, padding=\"same\", activation='relu')(net)               # shape = (batch_size, 14, 14, 64)\n",
    "net = tf.keras.layers.MaxPool2D(2, 2)(net)                                                   # shape = (batch_size, 7, 7, 64)\n",
    "net = tf.keras.layers.Dropout(0, 2)(net)   "
   ]
  }
 ],
 "metadata": {
  "interpreter": {
   "hash": "10bb3e5eb1abad2ba42de35e2f0620ab0c269d5adc677f9a81d88a2c58dbf16c"
  },
  "kernelspec": {
   "display_name": "Python 3.8.8rc1 64-bit",
   "language": "python",
   "name": "python3"
  },
  "language_info": {
   "codemirror_mode": {
    "name": "ipython",
    "version": 3
   },
   "file_extension": ".py",
   "mimetype": "text/x-python",
   "name": "python",
   "nbconvert_exporter": "python",
   "pygments_lexer": "ipython3",
   "version": "3.8.8rc1"
  },
  "orig_nbformat": 4
 },
 "nbformat": 4,
 "nbformat_minor": 2
}
